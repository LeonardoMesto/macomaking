{
 "cells": [
  {
   "cell_type": "code",
   "execution_count": 167,
   "id": "ad69d179",
   "metadata": {
    "scrolled": true
   },
   "outputs": [
    {
     "name": "stdout",
     "output_type": "stream",
     "text": [
      "Running on local URL:  http://127.0.0.1:7914\n",
      "Running on public URL: https://5951b1b0fcd28826.gradio.app\n",
      "\n",
      "This share link expires in 72 hours. For free permanent hosting, check out Spaces: https://www.huggingface.co/spaces\n"
     ]
    },
    {
     "data": {
      "text/html": [
       "<div><iframe src=\"https://5951b1b0fcd28826.gradio.app\" width=\"900\" height=\"500\" allow=\"autoplay; camera; microphone; clipboard-read; clipboard-write;\" frameborder=\"0\" allowfullscreen></iframe></div>"
      ],
      "text/plain": [
       "<IPython.core.display.HTML object>"
      ]
     },
     "metadata": {},
     "output_type": "display_data"
    },
    {
     "data": {
      "text/plain": [
       "(<gradio.routes.App at 0x199f7427850>,\n",
       " 'http://127.0.0.1:7914/',\n",
       " 'https://5951b1b0fcd28826.gradio.app')"
      ]
     },
     "execution_count": 167,
     "metadata": {},
     "output_type": "execute_result"
    },
    {
     "data": {
      "image/png": "[encoded data removed]",
      "text/plain": [
       "<Figure size 432x288 with 1 Axes>"
      ]
     },
     "metadata": {
      "needs_background": "light"
     },
     "output_type": "display_data"
    },
    {
     "name": "stdout",
     "output_type": "stream",
     "text": [
      "0.7203132653975706 0.0 1.663930159976544\n",
      "          cosine  euclidean  mahalanobis  minkowski  sqeuclidean\n",
      "0     100.000000   0.000000     0.000000   0.000000     0.000000\n",
      "1      90.708239   0.432899     0.432899   0.432899     0.187401\n",
      "2      91.512665   0.610024     0.610024   0.610024     0.372129\n",
      "3      71.904502   0.711973     0.711973   0.711973     0.506906\n",
      "4      98.978665   0.146675     0.146675   0.146675     0.021514\n",
      "...          ...        ...          ...        ...          ...\n",
      "1330   83.393447   0.689957     0.689957   0.689957     0.476041\n",
      "1331   95.663021   0.796532     0.796532   0.796532     0.634464\n",
      "1332   91.482038   0.878073     0.878073   0.878073     0.771012\n",
      "1333   90.558409   0.696880     0.696880   0.696880     0.485642\n",
      "1334   82.121021   0.893146     0.893146   0.893146     0.797710\n",
      "\n",
      "[1335 rows x 5 columns]\n",
      "True\n"
     ]
    }
   ],
   "source": [
    "import gradio as gr\n",
    "from joblib import load\n",
    "import numpy as np\n",
    "from scipy import spatial\n",
    "import pandas as pd\n",
    "import matplotlib.pyplot as plt\n",
    "from sklearn.decomposition import PCA\n",
    "from sklearn.preprocessing import MinMaxScaler\n",
    "\n",
    "solo = load('data/solo.joblib')\n",
    "duo = load('data/duo.joblib')\n",
    "trio = load('data/trio.joblib')\n",
    "squad = load('data/squad.joblib')\n",
    "users = load('data/users.joblib')\n",
    "\n",
    "def plotOnMap(p1, Players, userList):\n",
    "    pca = PCA(n_components = 2)\n",
    "    playersPCA = pca.fit_transform(Players)\n",
    "    p1PCA = pca.transform([p1])\n",
    "    userListPCA = pca.transform(userList)\n",
    "    \n",
    "    fig = plt.figure()\n",
    "    \n",
    "    plt.scatter(playersPCA[:, 0], playersPCA[:, 1])\n",
    "    plt.scatter(userListPCA[:, 0], userListPCA[:, 1], c = 'g')\n",
    "    plt.scatter(p1PCA[:, 0], p1PCA[:, 1], c = 'r')\n",
    "\n",
    "    plt.title(\"Players points\")\n",
    "    plt.ylabel(\"X2\")\n",
    "    plt.xlabel(\"X1\")\n",
    "    return fig\n",
    "\n",
    "def standard(X):\n",
    "    return (X - X.min(axis=0)) / (X.max(axis=0) - X.min(axis=0))\n",
    "    #return X\n",
    "\n",
    "def bigModel(p1, Players):\n",
    "    cosine = []\n",
    "    euclidean = []\n",
    "    mahalanobis = []\n",
    "    minkowski = []\n",
    "    sqeuclidean = []\n",
    "    \n",
    "    m = np.identity(7)\n",
    "    \n",
    "    for p2 in Players:\n",
    "            cosine.append((1 - spatial.distance.cosine(p1, p2))*100)\n",
    "        euclidean.append(spatial.distance.euclidean(p1, p2))\n",
    "        mahalanobis.append(spatial.distance.mahalanobis(p1, p2, m))\n",
    "        minkowski.append(spatial.distance.minkowski(p1, p2))\n",
    "        sqeuclidean.append(spatial.distance.sqeuclidean(p1, p2))\n",
    "    \n",
    "    print(euclidean[1], np.array(euclidean).min(axis=0), np.array(euclidean).max(axis=0))\n",
    "    \n",
    "    euclidean = standard(np.array(euclidean))\n",
    "    mahalanobis = standard(np.array(mahalanobis))\n",
    "    minkowski = standard(np.array(minkowski))\n",
    "    sqeuclidean = standard(np.array(sqeuclidean))\n",
    "    \n",
    "    df_scores = pd.DataFrame(data=np.array([\n",
    "        cosine, \n",
    "        euclidean,\n",
    "        mahalanobis,\n",
    "        minkowski,\n",
    "        sqeuclidean\n",
    "    ]).T, columns = [\n",
    "        \"cosine\", \n",
    "        \"euclidean\",\n",
    "        \"mahalanobis\",\n",
    "        \"minkowski\",\n",
    "        \"sqeuclidean\"\n",
    "    ])\n",
    "    \n",
    "    print(df_scores)\n",
    "    \n",
    "    return True\n",
    "    \n",
    "def prediction(p1, Players, n):\n",
    "    df_players = pd.DataFrame(data=Players, columns=[\"score\", \"top1\", \"kd\", \"winRatio\", \"matches\", \"kills\", \"minutes\"])\n",
    "\n",
    "    df_scores = bigModel(p1, Players)\n",
    "    print(df_scores)\n",
    "    \n",
    "    Distances = []\n",
    "    for p2 in Players:\n",
    "        Distances.append((1 - spatial.distance.cosine(p1, p2))*100)\n",
    "    \n",
    "    df_players.insert(1, \"Matching %\", Distances)\n",
    "    df_players = df_players.sort_values(by=['Matching %'], ascending=False)\n",
    "\n",
    "    userIndexes = df_players.head(n).index\n",
    "    userList = users[userIndexes]\n",
    "    matchingPlayers = Players[userIndexes]\n",
    "\n",
    "    fig = plotOnMap(p1,Players, matchingPlayers)\n",
    "\n",
    "    return userList, fig\n",
    "\n",
    "def printPlayers(players):\n",
    "    label = \"Matching players:\\n\"\n",
    "    for player in players:\n",
    "        label += f\"\\n{player[0]}\"\n",
    "    return label\n",
    "\n",
    "def greet(type, score, top1, kd, winRatio, matches, kills, minutes):\n",
    "    p1 = np.array([score, top1, kd, winRatio, matches, kills, minutes])\n",
    "\n",
    "    if type == 'Solo': userList, fig = prediction(p1, solo, 1)\n",
    "    if type == 'Duo': userList, fig = prediction(p1, duo, 3)\n",
    "    if type == 'Trio': userList, fig =  prediction(p1, trio, 5)\n",
    "    if type == 'Squad': userList, fig =  prediction(p1, squad, 7)\n",
    "\n",
    "    userList = printPlayers(userList)\n",
    "\n",
    "    return userList, fig\n",
    "\n",
    "demo = gr.Interface(\n",
    "    fn=greet,\n",
    "    examples = [\n",
    "        [\"Duo\", 0.730117966,0.735317356,0.763649425,0.81316726,0.264922696,0.496196684,0.492858304],\n",
    "    ],\n",
    "    inputs=[\n",
    "        gr.Dropdown([\"Solo\", \"Duo\", \"Trio\", \"Squad\"]),\n",
    "        \"number\", \n",
    "        \"number\", \n",
    "        \"number\", \n",
    "        \"number\", \n",
    "        \"number\", \n",
    "        \"number\", \n",
    "        \"number\"\n",
    "    ],\n",
    "    outputs=[gr.Text(label= \"Similar\"), gr.Plot()]\n",
    ")\n",
    "\n",
    "demo.launch(share=True)"
   ]
  },
  {
   "cell_type": "code",
   "execution_count": 8,
   "id": "c1dd6fa1",
   "metadata": {},
   "outputs": [
    {
     "data": {
      "text/plain": [
       "array([['Prospеring'],\n",
       "       ['BH nixxxay'],\n",
       "       ['Raпger'],\n",
       "       ...,\n",
       "       ['Noel Brabo do AM'],\n",
       "       ['ouver 67'],\n",
       "       ['FireDrâgon']], dtype=object)"
      ]
     },
     "execution_count": 8,
     "metadata": {},
     "output_type": "execute_result"
    }
   ],
   "source": [
    "users"
   ]
  },
  {
   "cell_type": "code",
   "execution_count": 33,
   "id": "7f96ee0c",
   "metadata": {},
   "outputs": [
    {
     "data": {
      "text/plain": [
       "array([[0.       , 1.1846739],\n",
       "       [1.1846739, 0.       ]])"
      ]
     },
     "execution_count": 33,
     "metadata": {},
     "output_type": "execute_result"
    }
   ],
   "source": [
    "from sklearn.neighbors import DistanceMetric\n",
    "dist = DistanceMetric.get_metric('euclidean')\n",
    "dist.pairwise(examples)"
   ]
  },
  {
   "cell_type": "code",
   "execution_count": 27,
   "id": "66d71613",
   "metadata": {},
   "outputs": [
    {
     "data": {
      "text/plain": [
       "[[0.730117966,\n",
       "  0.735317356,\n",
       "  0.763649425,\n",
       "  0.81316726,\n",
       "  0.264922696,\n",
       "  0.496196684,\n",
       "  0.492858304],\n",
       " [0.827088116,\n",
       "  0.296154859,\n",
       "  0.067528736,\n",
       "  0.163701068,\n",
       "  0.528823363,\n",
       "  0.156766414,\n",
       "  0.824428073]]"
      ]
     },
     "execution_count": 27,
     "metadata": {},
     "output_type": "execute_result"
    }
   ],
   "source": [
    "examples = [[0.730117966,0.735317356,0.763649425,0.81316726,0.264922696,0.496196684,0.492858304], [0.827088116,0.296154859,0.067528736,0.163701068,0.528823363,0.156766414,0.824428073]]\n",
    "\n",
    "examples"
   ]
  },
  {
   "cell_type": "code",
   "execution_count": 79,
   "id": "9c9cbd2d",
   "metadata": {},
   "outputs": [
    {
     "data": {
      "text/plain": [
       "0.2809549750635626"
      ]
     },
     "execution_count": 79,
     "metadata": {},
     "output_type": "execute_result"
    }
   ],
   "source": [
    "spatial.distance.cosine(examples[0], examples[1])"
   ]
  },
  {
   "cell_type": "code",
   "execution_count": 80,
   "id": "3eb3feca",
   "metadata": {},
   "outputs": [
    {
     "data": {
      "text/plain": [
       "1.1846738956004492"
      ]
     },
     "execution_count": 80,
     "metadata": {},
     "output_type": "execute_result"
    }
   ],
   "source": [
    "spatial.distance.euclidean(examples[0], examples[1])"
   ]
  },
  {
   "cell_type": "code",
   "execution_count": 87,
   "id": "034dc66e",
   "metadata": {},
   "outputs": [
    {
     "data": {
      "text/plain": [
       "1.1846738956004494"
      ]
     },
     "execution_count": 87,
     "metadata": {},
     "output_type": "execute_result"
    }
   ],
   "source": [
    "spatial.distance.mahalanobis(examples[0], examples[1], np.identity(len(examples[0])))"
   ]
  },
  {
   "cell_type": "code",
   "execution_count": 82,
   "id": "8bbf07e8",
   "metadata": {},
   "outputs": [
    {
     "data": {
      "text/plain": [
       "1.1846738956004492"
      ]
     },
     "execution_count": 82,
     "metadata": {},
     "output_type": "execute_result"
    }
   ],
   "source": [
    "spatial.distance.minkowski(examples[0], examples[1])"
   ]
  },
  {
   "cell_type": "code",
   "execution_count": 88,
   "id": "c7dd175f",
   "metadata": {},
   "outputs": [
    {
     "data": {
      "text/plain": [
       "1.4034522389171444"
      ]
     },
     "execution_count": 88,
     "metadata": {},
     "output_type": "execute_result"
    }
   ],
   "source": [
    "spatial.distance.sqeuclidean(examples[0], examples[1])"
   ]
  },
  {
   "cell_type": "code",
   "execution_count": 105,
   "id": "b26df449",
   "metadata": {},
   "outputs": [],
   "source": [
    "X = np.array([0, 2, 1, 1, 1.23])"
   ]
  },
  {
   "cell_type": "code",
   "execution_count": 106,
   "id": "44790240",
   "metadata": {},
   "outputs": [],
   "source": [
    "X_std = (X - X.min(axis=0)) / (X.max(axis=0) - X.min(axis=0))\n",
    "#X_scaled = X_std * (max - min) + min"
   ]
  },
  {
   "cell_type": "code",
   "execution_count": 107,
   "id": "d1892b25",
   "metadata": {},
   "outputs": [
    {
     "data": {
      "text/plain": [
       "array([0.   , 1.   , 0.5  , 0.5  , 0.615])"
      ]
     },
     "execution_count": 107,
     "metadata": {},
     "output_type": "execute_result"
    }
   ],
   "source": [
    "X_std"
   ]
  },
  {
   "cell_type": "code",
   "execution_count": 116,
   "id": "4586c70e",
   "metadata": {},
   "outputs": [],
   "source": [
    "X_temp = np.array([X, X])"
   ]
  },
  {
   "cell_type": "code",
   "execution_count": 118,
   "id": "06e848b2",
   "metadata": {},
   "outputs": [
    {
     "data": {
      "text/plain": [
       "array([[0.  , 0.  ],\n",
       "       [2.  , 2.  ],\n",
       "       [1.  , 1.  ],\n",
       "       [1.  , 1.  ],\n",
       "       [1.23, 1.23]])"
      ]
     },
     "execution_count": 118,
     "metadata": {},
     "output_type": "execute_result"
    }
   ],
   "source": [
    "X_temp.T"
   ]
  },
  {
   "cell_type": "code",
   "execution_count": null,
   "id": "e39ef953",
   "metadata": {},
   "outputs": [],
   "source": []
  }
 ],
 "metadata": {
  "kernelspec": {
   "display_name": "Python 3 (ipykernel)",
   "language": "python",
   "name": "python3"
  },
  "language_info": {
   "codemirror_mode": {
    "name": "ipython",
    "version": 3
   },
   "file_extension": ".py",
   "mimetype": "text/x-python",
   "name": "python",
   "nbconvert_exporter": "python",
   "pygments_lexer": "ipython3",
   "version": "3.9.7"
  }
 },
 "nbformat": 4,
 "nbformat_minor": 5
}
