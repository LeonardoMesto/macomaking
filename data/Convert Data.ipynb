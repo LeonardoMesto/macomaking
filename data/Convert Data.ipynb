{
 "cells": [
  {
   "cell_type": "code",
   "execution_count": 1,
   "id": "5bd81208",
   "metadata": {},
   "outputs": [],
   "source": [
    "import numpy as np\n",
    "import pandas as pd"
   ]
  },
  {
   "cell_type": "code",
   "execution_count": 14,
   "id": "6fd0a38f",
   "metadata": {},
   "outputs": [],
   "source": [
    "df_solo = pd.read_csv(\"solo.csv\", names=[\"score\", \"top1\", \"kd\", \"winRatio\", \"matches\", \"kills\", \"minutes\", \"user\"])\n",
    "df_duo = pd.read_csv(\"duo.csv\", names=[\"score\", \"top1\", \"kd\", \"winRatio\", \"matches\", \"kills\", \"minutes\", \"user\"])\n",
    "df_ltm = pd.read_csv(\"ltm.csv\", names=[\"score\", \"top1\", \"kd\", \"winRatio\", \"matches\", \"kills\", \"minutes\", \"user\"])\n",
    "df_squad = pd.read_csv(\"squad.csv\", names=[\"score\", \"top1\", \"kd\", \"winRatio\", \"matches\", \"kills\", \"minutes\", \"user\"])\n",
    "df_trio = pd.read_csv(\"trio.csv\", names=[\"score\", \"top1\", \"kd\", \"winRatio\", \"matches\", \"kills\", \"minutes\", \"user\"])\n",
    "df_users = pd.read_csv(\"users.csv\", names=[\"user\"])"
   ]
  },
  {
   "cell_type": "code",
   "execution_count": 19,
   "id": "2f9b4a87",
   "metadata": {},
   "outputs": [],
   "source": [
    "X_solo = np.array(df_solo.drop(\"user\", axis=1))\n",
    "X_duo = np.array(df_duo.drop(\"user\", axis=1))\n",
    "X_ltm = np.array(df_ltm.drop(\"user\", axis=1))\n",
    "X_squad = np.array(df_squad.drop(\"user\", axis=1))\n",
    "X_trio = np.array(df_trio.drop(\"user\", axis=1))"
   ]
  },
  {
   "cell_type": "code",
   "execution_count": 27,
   "id": "06c5a77a",
   "metadata": {},
   "outputs": [],
   "source": [
    "df_users[\"index\"] = list(range(0, 1335))"
   ]
  },
  {
   "cell_type": "code",
   "execution_count": 30,
   "id": "4824f0ed",
   "metadata": {},
   "outputs": [
    {
     "data": {
      "text/plain": [
       "array([['Prospеring', 0],\n",
       "       ['BH nixxxay', 1],\n",
       "       ['Raпger', 2],\n",
       "       ...,\n",
       "       ['Noel Brabo do AM', 1332],\n",
       "       ['ouver 67', 1333],\n",
       "       ['FireDrâgon', 1334]], dtype=object)"
      ]
     },
     "execution_count": 30,
     "metadata": {},
     "output_type": "execute_result"
    }
   ],
   "source": [
    "y = np.array(df_users)\n",
    "y"
   ]
  },
  {
   "cell_type": "code",
   "execution_count": 31,
   "id": "0a61b4f6",
   "metadata": {},
   "outputs": [
    {
     "data": {
      "text/plain": [
       "['users.joblib']"
      ]
     },
     "execution_count": 31,
     "metadata": {},
     "output_type": "execute_result"
    }
   ],
   "source": [
    "from joblib import dump, load\n",
    "dump(X_solo, 'solo.joblib')\n",
    "dump(X_duo, 'duo.joblib')\n",
    "dump(X_trio, 'trio.joblib')\n",
    "dump(X_squad, 'squad.joblib')\n",
    "dump(X_ltm, 'ltm.joblib')\n",
    "dump(y, 'users.joblib')"
   ]
  },
  {
   "cell_type": "code",
   "execution_count": null,
   "id": "d4d8e88d",
   "metadata": {},
   "outputs": [],
   "source": []
  }
 ],
 "metadata": {
  "kernelspec": {
   "display_name": "Python 3 (ipykernel)",
   "language": "python",
   "name": "python3"
  },
  "language_info": {
   "codemirror_mode": {
    "name": "ipython",
    "version": 3
   },
   "file_extension": ".py",
   "mimetype": "text/x-python",
   "name": "python",
   "nbconvert_exporter": "python",
   "pygments_lexer": "ipython3",
   "version": "3.9.7"
  }
 },
 "nbformat": 4,
 "nbformat_minor": 5
}
