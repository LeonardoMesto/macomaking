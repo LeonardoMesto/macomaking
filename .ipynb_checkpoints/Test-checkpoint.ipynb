{
 "cells": [
  {
   "cell_type": "code",
   "execution_count": 2,
   "id": "ad69d179",
   "metadata": {},
   "outputs": [
    {
     "name": "stdout",
     "output_type": "stream",
     "text": [
      "Running on local URL:  http://127.0.0.1:7862\n",
      "Running on public URL: https://bb3278c0bf637c5c.gradio.app\n",
      "\n",
      "This share link expires in 72 hours. For free permanent hosting, check out Spaces: https://www.huggingface.co/spaces\n"
     ]
    },
    {
     "data": {
      "text/html": [
       "<div><iframe src=\"https://bb3278c0bf637c5c.gradio.app\" width=\"900\" height=\"500\" allow=\"autoplay; camera; microphone; clipboard-read; clipboard-write;\" frameborder=\"0\" allowfullscreen></iframe></div>"
      ],
      "text/plain": [
       "<IPython.core.display.HTML object>"
      ]
     },
     "metadata": {},
     "output_type": "display_data"
    },
    {
     "data": {
      "text/plain": [
       "(<gradio.routes.App at 0x199d40586a0>,\n",
       " 'http://127.0.0.1:7862/',\n",
       " 'https://bb3278c0bf637c5c.gradio.app')"
      ]
     },
     "execution_count": 2,
     "metadata": {},
     "output_type": "execute_result"
    }
   ],
   "source": [
    "import gradio as gr\n",
    "from joblib import load\n",
    "import numpy as np\n",
    "from scipy import spatial\n",
    "import pandas as pd\n",
    "import matplotlib.pyplot as plt\n",
    "from sklearn.decomposition import PCA\n",
    "\n",
    "solo = load('data/solo.joblib')\n",
    "duo = load('data/duo.joblib')\n",
    "trio = load('data/trio.joblib')\n",
    "squad = load('data/squad.joblib')\n",
    "users = load('data/users.joblib')\n",
    "\n",
    "def plotOnMap(p1, Players, matchingPlayers):\n",
    "    pca = PCA(n_components = 2)\n",
    "    playersPCA = pca.fit_transform(Players)\n",
    "    p1PCA = pca.transform([p1])\n",
    "    matchingPlayersPCA = pca.transform(matchingPlayers)\n",
    "    \n",
    "    fig = plt.figure()\n",
    "    \n",
    "    plt.scatter(playersPCA[:, 0], playersPCA[:, 1])\n",
    "    plt.scatter(matchingPlayersPCA[:, 0], matchingPlayersPCA[:, 1], c = 'g')\n",
    "    plt.scatter(p1PCA[:, 0], p1PCA[:, 1], c = 'r')\n",
    "\n",
    "    plt.title(\"Players points\")\n",
    "    plt.ylabel(\"X2\")\n",
    "    plt.xlabel(\"X1\")\n",
    "    return fig\n",
    "\n",
    "def prediction(p1, Players, n):\n",
    "    df_players = pd.DataFrame(data=Players, columns=[\"score\", \"top1\", \"kd\", \"winRatio\", \"matches\", \"kills\", \"minutes\"])\n",
    "\n",
    "    Distances = []\n",
    "    for p2 in Players:\n",
    "        Distances.append((1 - spatial.distance.cosine(p1, p2))*100)\n",
    "    \n",
    "    df_players.insert(1, \"Matching %\", Distances)\n",
    "    df_players = df_players.sort_values(by=['Matching %'], ascending=False)\n",
    "\n",
    "    matchingPlayers = Players[df_players.head(n).index]\n",
    "\n",
    "    fig = plotOnMap(p1,Players, matchingPlayers)\n",
    "\n",
    "    return matchingPlayers, fig\n",
    "\n",
    "def printPlayers(players):\n",
    "    label = \"Matching players:\\n\"\n",
    "    for player in players:\n",
    "        label += f\"\\n{player[0]}\"\n",
    "    return label\n",
    "\n",
    "def greet(type, score, top1, kd, winRatio, matches, kills, minutes):\n",
    "    p1 = np.array([score, top1, kd, winRatio, matches, kills, minutes])\n",
    "\n",
    "    if type == 'Solo': userList, fig = prediction(p1, solo, 1)\n",
    "    if type == 'Duo': userList, fig = prediction(p1, duo, 3)\n",
    "    if type == 'Trio': userList, fig =  prediction(p1, trio, 5)\n",
    "    if type == 'Squad': userList, fig =  prediction(p1, squad, 7)\n",
    "\n",
    "    userList = printPlayers(userList)\n",
    "\n",
    "    return userList, fig\n",
    "\n",
    "demo = gr.Interface(\n",
    "    fn=greet,\n",
    "    examples = [\n",
    "        [\"Duo\", 0.730117966,0.735317356,0.763649425,0.81316726,0.264922696,0.496196684,0.492858304],\n",
    "    ],\n",
    "    inputs=[\n",
    "        gr.Dropdown([\"Solo\", \"Duo\", \"Trio\", \"Squad\"]),\n",
    "        \"number\", \n",
    "        \"number\", \n",
    "        \"number\", \n",
    "        \"number\", \n",
    "        \"number\", \n",
    "        \"number\", \n",
    "        \"number\"\n",
    "    ],\n",
    "    outputs=[gr.Text(label= \"Similar\"), gr.Plot()]\n",
    ")\n",
    "\n",
    "demo.launch(share=True)"
   ]
  },
  {
   "cell_type": "code",
   "execution_count": null,
   "id": "c1dd6fa1",
   "metadata": {},
   "outputs": [],
   "source": []
  }
 ],
 "metadata": {
  "kernelspec": {
   "display_name": "Python 3 (ipykernel)",
   "language": "python",
   "name": "python3"
  },
  "language_info": {
   "codemirror_mode": {
    "name": "ipython",
    "version": 3
   },
   "file_extension": ".py",
   "mimetype": "text/x-python",
   "name": "python",
   "nbconvert_exporter": "python",
   "pygments_lexer": "ipython3",
   "version": "3.9.7"
  }
 },
 "nbformat": 4,
 "nbformat_minor": 5
}
